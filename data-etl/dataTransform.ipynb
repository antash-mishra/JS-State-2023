{
 "cells": [
  {
   "cell_type": "code",
   "execution_count": 1,
   "metadata": {},
   "outputs": [
    {
     "name": "stdout",
     "output_type": "stream",
     "text": [
      "Hello\n"
     ]
    }
   ],
   "source": [
    "print(\"Hello\")"
   ]
  },
  {
   "cell_type": "code",
   "execution_count": 3,
   "metadata": {},
   "outputs": [
    {
     "name": "stdout",
     "output_type": "stream",
     "text": [
      "Requirement already satisfied: pandas in ./.venv/lib/python3.12/site-packages (2.2.3)\n",
      "Requirement already satisfied: numpy in ./.venv/lib/python3.12/site-packages (2.1.3)\n",
      "Requirement already satisfied: python-dateutil>=2.8.2 in ./.venv/lib/python3.12/site-packages (from pandas) (2.9.0.post0)\n",
      "Requirement already satisfied: pytz>=2020.1 in ./.venv/lib/python3.12/site-packages (from pandas) (2024.2)\n",
      "Requirement already satisfied: tzdata>=2022.7 in ./.venv/lib/python3.12/site-packages (from pandas) (2024.2)\n",
      "Requirement already satisfied: six>=1.5 in ./.venv/lib/python3.12/site-packages (from python-dateutil>=2.8.2->pandas) (1.16.0)\n"
     ]
    }
   ],
   "source": [
    "!pip install pandas numpy"
   ]
  },
  {
   "cell_type": "code",
   "execution_count": 1,
   "metadata": {},
   "outputs": [],
   "source": [
    "import pandas as pd\n",
    "import numpy as np"
   ]
  },
  {
   "cell_type": "code",
   "execution_count": 2,
   "metadata": {},
   "outputs": [],
   "source": [
    "frameworks = pd.read_json(\"framework_2023.json\")\n"
   ]
  },
  {
   "cell_type": "code",
   "execution_count": 3,
   "metadata": {},
   "outputs": [
    {
     "name": "stdout",
     "output_type": "stream",
     "text": [
      "{'id': 'react', 'entity': {'name': 'React', 'nameClean': 'React', 'entityType': 'library', 'homepage': {'url': 'https://reactjs.org/'}}, 'responses': {'allEditions': [{'year': 2016, 'editionId': 'js2016', 'ratios': {'awareness': 0.99, 'interest': 0.75, 'usage': 0.52, 'retention': 0.92, 'positivity': 0.8300000000000001}, 'completion': {'count': 10257, 'percentageSurvey': 99.99, 'total': 10258}}, {'year': 2017, 'editionId': 'js2017', 'ratios': {'awareness': 0.99, 'interest': 0.71, 'usage': 0.61, 'retention': 0.93, 'positivity': 0.84}, 'completion': {'count': 23704, 'percentageSurvey': 100, 'total': 23704}}, {'year': 2018, 'editionId': 'js2018', 'ratios': {'awareness': 0.99, 'interest': 0.67, 'usage': 0.71, 'retention': 0.9, 'positivity': 0.8300000000000001}, 'completion': {'count': 20153, 'percentageSurvey': 99.44, 'total': 20267}}, {'year': 2019, 'editionId': 'js2019', 'ratios': {'awareness': 1, 'interest': 0.6000000000000001, 'usage': 0.8, 'retention': 0.89, 'positivity': 0.8300000000000001}, 'completion': {'count': 20099, 'percentageSurvey': 92.56, 'total': 21715}}, {'year': 2020, 'editionId': 'js2020', 'ratios': {'awareness': 0.99, 'interest': 0.58, 'usage': 0.8, 'retention': 0.87, 'positivity': 0.81}, 'completion': {'count': 21528, 'percentageSurvey': 90.59, 'total': 23765}}, {'year': 2021, 'editionId': 'js2021', 'ratios': {'awareness': 0.99, 'interest': 0.48, 'usage': 0.79, 'retention': 0.8300000000000001, 'positivity': 0.76}, 'completion': {'count': 13585, 'percentageSurvey': 84.45, 'total': 16086}}, {'year': 2022, 'editionId': 'js2022', 'ratios': {'awareness': 0.99, 'interest': 0.47000000000000003, 'usage': 0.81, 'retention': 0.8200000000000001, 'positivity': 0.76}, 'completion': {'count': 33376, 'percentageSurvey': 84.56, 'total': 39469}}, {'year': 2023, 'editionId': 'js2023', 'ratios': {'awareness': 0.99, 'interest': 0.42, 'usage': 0.84, 'retention': 0.76, 'positivity': 0.71}, 'completion': {'count': 21619, 'percentageSurvey': 91.84, 'total': 23540}}]}}\n",
      "{'id': 'vuejs', 'entity': {'name': 'Vue.js', 'nameClean': 'Vue.js', 'entityType': 'library', 'homepage': {'url': 'http://vuejs.org'}}, 'responses': {'allEditions': [{'year': 2016, 'editionId': 'js2016', 'ratios': {'awareness': 0.72, 'interest': 0.51, 'usage': 0.1, 'retention': 0.87, 'positivity': 0.4}, 'completion': {'count': 10257, 'percentageSurvey': 99.99, 'total': 10258}}, {'year': 2017, 'editionId': 'js2017', 'ratios': {'awareness': 0.9400000000000001, 'interest': 0.7000000000000001, 'usage': 0.21, 'retention': 0.91, 'positivity': 0.7000000000000001}, 'completion': {'count': 23704, 'percentageSurvey': 100, 'total': 23704}}, {'year': 2018, 'editionId': 'js2018', 'ratios': {'awareness': 0.98, 'interest': 0.6900000000000001, 'usage': 0.31, 'retention': 0.91, 'positivity': 0.75}, 'completion': {'count': 20145, 'percentageSurvey': 99.4, 'total': 20267}}, {'year': 2019, 'editionId': 'js2019', 'ratios': {'awareness': 0.99, 'interest': 0.64, 'usage': 0.46, 'retention': 0.87, 'positivity': 0.74}, 'completion': {'count': 20103, 'percentageSurvey': 92.58, 'total': 21715}}, {'year': 2020, 'editionId': 'js2020', 'ratios': {'awareness': 0.99, 'interest': 0.62, 'usage': 0.48, 'retention': 0.85, 'positivity': 0.73}, 'completion': {'count': 21649, 'percentageSurvey': 91.1, 'total': 23765}}, {'year': 2021, 'editionId': 'js2021', 'ratios': {'awareness': 0.99, 'interest': 0.49, 'usage': 0.51, 'retention': 0.79, 'positivity': 0.65}, 'completion': {'count': 13665, 'percentageSurvey': 84.95, 'total': 16086}}, {'year': 2022, 'editionId': 'js2022', 'ratios': {'awareness': 0.99, 'interest': 0.5, 'usage': 0.46, 'retention': 0.77, 'positivity': 0.62}, 'completion': {'count': 33340, 'percentageSurvey': 84.47, 'total': 39469}}, {'year': 2023, 'editionId': 'js2023', 'ratios': {'awareness': 0.99, 'interest': 0.5, 'usage': 0.5, 'retention': 0.75, 'positivity': 0.62}, 'completion': {'count': 21589, 'percentageSurvey': 91.71, 'total': 23540}}]}}\n",
      "{'id': 'angular', 'entity': {'name': 'Angular', 'nameClean': 'Angular', 'entityType': 'library', 'homepage': {'url': 'https://angular.io'}}, 'responses': {'allEditions': [{'year': 2016, 'editionId': 'js2016', 'ratios': {'awareness': 0.98, 'interest': 0.5, 'usage': 0.19, 'retention': 0.67, 'positivity': 0.53}, 'completion': {'count': 10257, 'percentageSurvey': 99.99, 'total': 10258}}, {'year': 2017, 'editionId': 'js2017', 'ratios': {'awareness': 0.99, 'interest': 0.36, 'usage': 0.28, 'retention': 0.66, 'positivity': 0.44}, 'completion': {'count': 23704, 'percentageSurvey': 100, 'total': 23704}}, {'year': 2018, 'editionId': 'js2018', 'ratios': {'awareness': 0.99, 'interest': 0.24, 'usage': 0.5700000000000001, 'retention': 0.41000000000000003, 'positivity': 0.34}, 'completion': {'count': 20161, 'percentageSurvey': 99.48, 'total': 20267}}, {'year': 2019, 'editionId': 'js2019', 'ratios': {'awareness': 0.99, 'interest': 0.23, 'usage': 0.5700000000000001, 'retention': 0.37, 'positivity': 0.31}, 'completion': {'count': 20098, 'percentageSurvey': 92.55, 'total': 21715}}, {'year': 2020, 'editionId': 'js2020', 'ratios': {'awareness': 0.99, 'interest': 0.2, 'usage': 0.55, 'retention': 0.41000000000000003, 'positivity': 0.32}, 'completion': {'count': 21731, 'percentageSurvey': 91.44, 'total': 23765}}, {'year': 2021, 'editionId': 'js2021', 'ratios': {'awareness': 0.99, 'interest': 0.16, 'usage': 0.53, 'retention': 0.44, 'positivity': 0.31}, 'completion': {'count': 13708, 'percentageSurvey': 85.22, 'total': 16086}}, {'year': 2022, 'editionId': 'js2022', 'ratios': {'awareness': 0.99, 'interest': 0.2, 'usage': 0.48, 'retention': 0.42, 'positivity': 0.31}, 'completion': {'count': 33346, 'percentageSurvey': 84.49, 'total': 39469}}, {'year': 2023, 'editionId': 'js2023', 'ratios': {'awareness': 0.99, 'interest': 0.23, 'usage': 0.45, 'retention': 0.42, 'positivity': 0.32}, 'completion': {'count': 21578, 'percentageSurvey': 91.67, 'total': 23540}}]}}\n",
      "{'id': 'preact', 'entity': {'name': 'Preact', 'nameClean': 'Preact', 'entityType': 'library', 'description': 'Fast 3kB React alternative with the same modern API. Components & Virtual DOM.', 'descriptionClean': 'Fast 3kB React alternative with the same modern API. Components  Virtual DOM.', 'descriptionHtml': 'Fast 3kB React alternative with the same modern API. Components &amp; Virtual DOM.', 'homepage': {'url': 'https://preactjs.com'}}, 'responses': {'allEditions': [{'year': 2018, 'editionId': 'js2018', 'ratios': {'awareness': 0.71, 'interest': 0.42, 'usage': 0.07, 'retention': 0.8300000000000001, 'positivity': 0.33}, 'completion': {'count': 20137, 'percentageSurvey': 99.36, 'total': 20267}}, {'year': 2019, 'editionId': 'js2019', 'ratios': {'awareness': 0.75, 'interest': 0.4, 'usage': 0.12, 'retention': 0.77, 'positivity': 0.35000000000000003}, 'completion': {'count': 20068, 'percentageSurvey': 92.42, 'total': 21715}}, {'year': 2020, 'editionId': 'js2020', 'ratios': {'awareness': 0.76, 'interest': 0.39, 'usage': 0.13, 'retention': 0.78, 'positivity': 0.35000000000000003}, 'completion': {'count': 21718, 'percentageSurvey': 91.39, 'total': 23765}}, {'year': 2021, 'editionId': 'js2021', 'ratios': {'awareness': 0.79, 'interest': 0.31, 'usage': 0.14, 'retention': 0.73, 'positivity': 0.31}, 'completion': {'count': 13689, 'percentageSurvey': 85.1, 'total': 16086}}, {'year': 2022, 'editionId': 'js2022', 'ratios': {'awareness': 0.76, 'interest': 0.35000000000000003, 'usage': 0.12, 'retention': 0.74, 'positivity': 0.31}, 'completion': {'count': 33276, 'percentageSurvey': 84.31, 'total': 39469}}, {'year': 2023, 'editionId': 'js2023', 'ratios': {'awareness': 0.8300000000000001, 'interest': 0.34, 'usage': 0.13, 'retention': 0.66, 'positivity': 0.32}, 'completion': {'count': 21501, 'percentageSurvey': 91.34, 'total': 23540}}]}}\n",
      "{'id': 'svelte', 'entity': {'name': 'Svelte', 'nameClean': 'Svelte', 'entityType': 'library', 'homepage': {'url': 'https://svelte.dev'}}, 'responses': {'allEditions': [{'year': 2019, 'editionId': 'js2019', 'ratios': {'awareness': 0.75, 'interest': 0.66, 'usage': 0.07, 'retention': 0.87, 'positivity': 0.51}, 'completion': {'count': 20076, 'percentageSurvey': 92.45, 'total': 21715}}, {'year': 2020, 'editionId': 'js2020', 'ratios': {'awareness': 0.86, 'interest': 0.66, 'usage': 0.14, 'retention': 0.88, 'positivity': 0.6000000000000001}, 'completion': {'count': 21731, 'percentageSurvey': 91.44, 'total': 23765}}, {'year': 2021, 'editionId': 'js2021', 'ratios': {'awareness': 0.93, 'interest': 0.68, 'usage': 0.19, 'retention': 0.89, 'positivity': 0.67}, 'completion': {'count': 13704, 'percentageSurvey': 85.19, 'total': 16086}}, {'year': 2022, 'editionId': 'js2022', 'ratios': {'awareness': 0.93, 'interest': 0.6900000000000001, 'usage': 0.21, 'retention': 0.89, 'positivity': 0.6900000000000001}, 'completion': {'count': 33288, 'percentageSurvey': 84.34, 'total': 39469}}, {'year': 2023, 'editionId': 'js2023', 'ratios': {'awareness': 0.96, 'interest': 0.68, 'usage': 0.25, 'retention': 0.86, 'positivity': 0.7000000000000001}, 'completion': {'count': 21507, 'percentageSurvey': 91.36, 'total': 23540}}]}}\n",
      "{'id': 'alpinejs', 'entity': {'name': 'Alpine.js', 'nameClean': 'Alpine.js', 'entityType': 'library', 'description': 'A rugged, minimal framework for composing JavaScript behavior in your markup.\\n', 'descriptionClean': 'A rugged, minimal framework for composing JavaScript behavior in your markup.\\n', 'homepage': {'url': 'https://github.com/alpinejs/alpine'}}, 'responses': {'allEditions': [{'year': 2020, 'editionId': 'js2020', 'ratios': {'awareness': 0.34, 'interest': 0.37, 'usage': 0.03, 'retention': 0.8200000000000001, 'positivity': 0.14}, 'completion': {'count': 21726, 'percentageSurvey': 91.42, 'total': 23765}}, {'year': 2021, 'editionId': 'js2021', 'ratios': {'awareness': 0.48, 'interest': 0.33, 'usage': 0.05, 'retention': 0.79, 'positivity': 0.18}, 'completion': {'count': 13689, 'percentageSurvey': 85.1, 'total': 16086}}, {'year': 2022, 'editionId': 'js2022', 'ratios': {'awareness': 0.51, 'interest': 0.32, 'usage': 0.06, 'retention': 0.76, 'positivity': 0.19}, 'completion': {'count': 33247, 'percentageSurvey': 84.24, 'total': 39469}}, {'year': 2023, 'editionId': 'js2023', 'ratios': {'awareness': 0.58, 'interest': 0.31, 'usage': 0.07, 'retention': 0.7000000000000001, 'positivity': 0.21}, 'completion': {'count': 21467, 'percentageSurvey': 91.19, 'total': 23540}}]}}\n",
      "{'id': 'litelement', 'entity': {'name': 'Lit', 'nameClean': 'Lit', 'entityType': 'library', 'homepage': {'url': 'https://lit.dev/'}}, 'responses': {'allEditions': [{'year': 2020, 'editionId': 'js2020', 'ratios': {'awareness': 0.26, 'interest': 0.39, 'usage': 0.05, 'retention': 0.77, 'positivity': 0.12}, 'completion': {'count': 21723, 'percentageSurvey': 91.41, 'total': 23765}}, {'year': 2021, 'editionId': 'js2021', 'ratios': {'awareness': 0.37, 'interest': 0.4, 'usage': 0.07, 'retention': 0.77, 'positivity': 0.17}, 'completion': {'count': 13685, 'percentageSurvey': 85.07, 'total': 16086}}, {'year': 2022, 'editionId': 'js2022', 'ratios': {'awareness': 0.41000000000000003, 'interest': 0.36, 'usage': 0.06, 'retention': 0.7000000000000001, 'positivity': 0.17}, 'completion': {'count': 33228, 'percentageSurvey': 84.19, 'total': 39469}}, {'year': 2023, 'editionId': 'js2023', 'ratios': {'awareness': 0.51, 'interest': 0.41000000000000003, 'usage': 0.07, 'retention': 0.66, 'positivity': 0.23}, 'completion': {'count': 21444, 'percentageSurvey': 91.1, 'total': 23540}}]}}\n",
      "{'id': 'solid', 'entity': {'name': 'Solid', 'nameClean': 'Solid', 'entityType': 'library', 'homepage': {'url': 'https://www.solidjs.com/'}}, 'responses': {'allEditions': [{'year': 2021, 'editionId': 'js2021', 'ratios': {'awareness': 0.37, 'interest': 0.55, 'usage': 0.02, 'retention': 0.89, 'positivity': 0.21}, 'completion': {'count': 13680, 'percentageSurvey': 85.04, 'total': 16086}}, {'year': 2022, 'editionId': 'js2022', 'ratios': {'awareness': 0.65, 'interest': 0.65, 'usage': 0.06, 'retention': 0.9, 'positivity': 0.44}, 'completion': {'count': 33227, 'percentageSurvey': 84.19, 'total': 39469}}, {'year': 2023, 'editionId': 'js2023', 'ratios': {'awareness': 0.76, 'interest': 0.56, 'usage': 0.08, 'retention': 0.86, 'positivity': 0.46}, 'completion': {'count': 21432, 'percentageSurvey': 91.05, 'total': 23540}}]}}\n",
      "{'id': 'qwik', 'entity': {'name': 'Qwik', 'nameClean': 'Qwik', 'entityType': 'library', 'homepage': {'url': 'https://qwik.builder.io/'}}, 'responses': {'allEditions': [{'year': 2022, 'editionId': 'js2022', 'ratios': {'awareness': 0.48, 'interest': 0.66, 'usage': 0.01, 'retention': 0.84, 'positivity': 0.32}, 'completion': {'count': 33199, 'percentageSurvey': 84.11, 'total': 39469}}, {'year': 2023, 'editionId': 'js2023', 'ratios': {'awareness': 0.62, 'interest': 0.5, 'usage': 0.04, 'retention': 0.81, 'positivity': 0.33}, 'completion': {'count': 21421, 'percentageSurvey': 91, 'total': 23540}}]}}\n",
      "{'id': 'stencil', 'entity': {'name': 'Stencil', 'nameClean': 'Stencil', 'entityType': 'library', 'homepage': {'url': 'https://stenciljs.com'}}, 'responses': {'allEditions': [{'year': 2022, 'editionId': 'js2022', 'ratios': {'awareness': 0.35000000000000003, 'interest': 0.32, 'usage': 0.04, 'retention': 0.62, 'positivity': 0.12}, 'completion': {'count': 33189, 'percentageSurvey': 84.09, 'total': 39469}}, {'year': 2023, 'editionId': 'js2023', 'ratios': {'awareness': 0.4, 'interest': 0.26, 'usage': 0.04, 'retention': 0.49, 'positivity': 0.11}, 'completion': {'count': 21364, 'percentageSurvey': 90.76, 'total': 23540}}]}}\n",
      "{'id': 'htmx', 'entity': {'name': 'HTMX', 'nameClean': 'HTMX', 'entityType': 'library', 'homepage': {'url': 'https://htmx.org/'}}, 'responses': {'allEditions': [{'year': 2023, 'editionId': 'js2023', 'ratios': {'awareness': 0.71, 'interest': 0.55, 'usage': 0.05, 'retention': 0.84, 'positivity': 0.4}, 'completion': {'count': 21428, 'percentageSurvey': 91.03, 'total': 23540}}]}}\n"
     ]
    }
   ],
   "source": [
    "ids = []\n",
    "for framework in frameworks.data[0]:\n",
    "    ids.append(framework['id'])\n",
    "    print(framework)"
   ]
  },
  {
   "cell_type": "code",
   "execution_count": 4,
   "metadata": {},
   "outputs": [
    {
     "data": {
      "text/plain": [
       "['react',\n",
       " 'vuejs',\n",
       " 'angular',\n",
       " 'preact',\n",
       " 'svelte',\n",
       " 'alpinejs',\n",
       " 'litelement',\n",
       " 'solid',\n",
       " 'qwik',\n",
       " 'stencil',\n",
       " 'htmx']"
      ]
     },
     "execution_count": 4,
     "metadata": {},
     "output_type": "execute_result"
    }
   ],
   "source": [
    "ids"
   ]
  },
  {
   "cell_type": "code",
   "execution_count": 5,
   "metadata": {},
   "outputs": [
    {
     "name": "stdout",
     "output_type": "stream",
     "text": [
      "{'year': 2016, 'editionId': 'js2016', 'ratios': {'awareness': 0.99, 'interest': 0.75, 'usage': 0.52, 'retention': 0.92, 'positivity': 0.8300000000000001}, 'completion': {'count': 10257, 'percentageSurvey': 99.99, 'total': 10258}}\n",
      "{'year': 2017, 'editionId': 'js2017', 'ratios': {'awareness': 0.99, 'interest': 0.71, 'usage': 0.61, 'retention': 0.93, 'positivity': 0.84}, 'completion': {'count': 23704, 'percentageSurvey': 100, 'total': 23704}}\n",
      "{'year': 2018, 'editionId': 'js2018', 'ratios': {'awareness': 0.99, 'interest': 0.67, 'usage': 0.71, 'retention': 0.9, 'positivity': 0.8300000000000001}, 'completion': {'count': 20153, 'percentageSurvey': 99.44, 'total': 20267}}\n",
      "{'year': 2019, 'editionId': 'js2019', 'ratios': {'awareness': 1, 'interest': 0.6000000000000001, 'usage': 0.8, 'retention': 0.89, 'positivity': 0.8300000000000001}, 'completion': {'count': 20099, 'percentageSurvey': 92.56, 'total': 21715}}\n",
      "{'year': 2020, 'editionId': 'js2020', 'ratios': {'awareness': 0.99, 'interest': 0.58, 'usage': 0.8, 'retention': 0.87, 'positivity': 0.81}, 'completion': {'count': 21528, 'percentageSurvey': 90.59, 'total': 23765}}\n",
      "{'year': 2021, 'editionId': 'js2021', 'ratios': {'awareness': 0.99, 'interest': 0.48, 'usage': 0.79, 'retention': 0.8300000000000001, 'positivity': 0.76}, 'completion': {'count': 13585, 'percentageSurvey': 84.45, 'total': 16086}}\n",
      "{'year': 2022, 'editionId': 'js2022', 'ratios': {'awareness': 0.99, 'interest': 0.47000000000000003, 'usage': 0.81, 'retention': 0.8200000000000001, 'positivity': 0.76}, 'completion': {'count': 33376, 'percentageSurvey': 84.56, 'total': 39469}}\n",
      "{'year': 2023, 'editionId': 'js2023', 'ratios': {'awareness': 0.99, 'interest': 0.42, 'usage': 0.84, 'retention': 0.76, 'positivity': 0.71}, 'completion': {'count': 21619, 'percentageSurvey': 91.84, 'total': 23540}}\n"
     ]
    }
   ],
   "source": [
    "years = []\n",
    "for year  in frameworks['data'][0][0]['responses']['allEditions']:\n",
    "    years.append(year['year'])\n",
    "    print(year)"
   ]
  },
  {
   "cell_type": "code",
   "execution_count": 6,
   "metadata": {},
   "outputs": [
    {
     "data": {
      "text/plain": [
       "[2016, 2017, 2018, 2019, 2020, 2021, 2022, 2023]"
      ]
     },
     "execution_count": 6,
     "metadata": {},
     "output_type": "execute_result"
    }
   ],
   "source": [
    "years"
   ]
  },
  {
   "cell_type": "code",
   "execution_count": null,
   "metadata": {},
   "outputs": [],
   "source": []
  },
  {
   "cell_type": "code",
   "execution_count": 26,
   "metadata": {},
   "outputs": [],
   "source": [
    "result = []\n",
    "for framework in frameworks.data[0]:\n",
    "    id = framework.get('id')\n",
    "    name = framework['entity']['name']\n",
    "    edition_length = len(framework['responses']['allEditions'])\n",
    "    user_count = framework['responses']['allEditions'][edition_length-1]['completion']['count'] * framework['responses']['allEditions'][edition_length-1]['ratios']['usage'] \n",
    "    usage = []\n",
    "    awareness = []\n",
    "    interests = []\n",
    "    satisfactions = []\n",
    "    for edition in framework['responses']['allEditions']:\n",
    "        use = {\n",
    "            \"year\": edition['year'],\n",
    "            \"percentage_question\": edition['ratios'][ 'usage'] * 100\n",
    "        }\n",
    "\n",
    "        aware = {\n",
    "            \"year\": edition['year'],\n",
    "            \"percentage_question\": edition['ratios'][ 'awareness'] * 100\n",
    "        }\n",
    "        \n",
    "        usage.append(use)\n",
    "        awareness.append(aware)\n",
    "        interests.append({\n",
    "            \"year\": edition['year'],\n",
    "            \"percentage_question\": edition['ratios'][ 'interest'] * 100\n",
    "        })\n",
    "        satisfactions.append({\n",
    "            \"year\": edition['year'],\n",
    "            \"percentage_question\": edition['ratios'][ 'retention'] * 100\n",
    "        })\n",
    "\n",
    "    result.append({\n",
    "        \"id\": id,\n",
    "        \"name\": framework['entity']['name'],\n",
    "        \"user_count\": user_count, \n",
    "        \"retention_percentage\": framework['responses']['allEditions'][edition_length-1]['ratios']['retention'],\n",
    "        \"usage\": usage,\n",
    "        \"awarness\": awareness,\n",
    "        \"interest\": interests,\n",
    "        \"satisfaction\": satisfactions\n",
    "    })"
   ]
  },
  {
   "cell_type": "code",
   "execution_count": null,
   "metadata": {},
   "outputs": [
    {
     "ename": "NameError",
     "evalue": "name 'display_json' is not defined",
     "output_type": "error",
     "traceback": [
      "\u001b[0;31m---------------------------------------------------------------------------\u001b[0m",
      "\u001b[0;31mNameError\u001b[0m                                 Traceback (most recent call last)",
      "Cell \u001b[0;32mIn[38], line 1\u001b[0m\n\u001b[0;32m----> 1\u001b[0m \u001b[43mdisplay_json\u001b[49m(result[\u001b[38;5;241m0\u001b[39m])\n",
      "\u001b[0;31mNameError\u001b[0m: name 'display_json' is not defined"
     ]
    }
   ],
   "source": [
    "(result[0])"
   ]
  },
  {
   "cell_type": "code",
   "execution_count": null,
   "metadata": {},
   "outputs": [],
   "source": []
  }
 ],
 "metadata": {
  "kernelspec": {
   "display_name": "Python 3 (ipykernel)",
   "language": "python",
   "name": "python3"
  },
  "language_info": {
   "codemirror_mode": {
    "name": "ipython",
    "version": 3
   },
   "file_extension": ".py",
   "mimetype": "text/x-python",
   "name": "python",
   "nbconvert_exporter": "python",
   "pygments_lexer": "ipython3",
   "version": "3.12.6"
  }
 },
 "nbformat": 4,
 "nbformat_minor": 2
}
